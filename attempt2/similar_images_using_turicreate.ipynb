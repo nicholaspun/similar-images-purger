{
  "nbformat": 4,
  "nbformat_minor": 0,
  "metadata": {
    "colab": {
      "name": "ImageSimilarity.ipynb",
      "provenance": [],
      "mount_file_id": "1y8Rl5m6y-FyCHsCi5RhhEh1m1HJ2BDkJ",
      "authorship_tag": "ABX9TyM+zPfx/otAmQTdpfOX0E/T"
    },
    "kernelspec": {
      "name": "python3",
      "display_name": "Python 3"
    }
  },
  "cells": [
    {
      "cell_type": "code",
      "metadata": {
        "id": "QD8EJDJlcAhM",
        "colab_type": "code",
        "colab": {}
      },
      "source": [
        "%%capture\n",
        "!pip install turicreate\n",
        "\n",
        "import os\n",
        "import turicreate as tc"
      ],
      "execution_count": 0,
      "outputs": []
    },
    {
      "cell_type": "code",
      "metadata": {
        "id": "gbHWnJgtf94j",
        "colab_type": "code",
        "colab": {}
      },
      "source": [
        "ICELAND_IMAGES_DIRECTORY = './drive/My Drive/Iceland'\n",
        "ICELAND_SFRAME_PATH = './drive/My Drive/Colab Notebooks/iceland.sframe'\n",
        "ICELAND_MODEL_PATH = './drive/My Drive/Colab Notebooks/iceland.model'\n",
        "FEATURES_SFRAME_PATH = './drive/My Drive/Colab Notebooks/features.sframe'\n",
        "\n",
        "if not os.path.exists(ICELAND_SFRAME_PATH):\n",
        "  imgs  = tc.image_analysis.load_images(ICELAND_IMAGES_DIRECTORY)\n",
        "  imgs.save(ICELAND_SFRAME_PATH)\n",
        "else: \n",
        "  imgs = tc.SFrame(data = ICELAND_SFRAME_PATH)\n",
        "\n",
        "# Verify that SFrame has been loaded\n",
        "print(imgs.head(10))\n",
        "\n",
        "if not os.path.exists(ICELAND_MODEL_PATH):\n",
        "  imgs_model = tc.image_similarity.create(imgs)\n",
        "  imgs_model.save(ICELAND_MODEL_PATH)\n",
        "else:\n",
        "  imgs_model = tc.load_model(ICELAND_MODEL_PATH)\n",
        "\n",
        "# Verify that Model has been loaded\n",
        "print(imgs_model.summary())\n",
        "\n",
        "# Hack to extract feature vectors\n",
        "if not os.path.exists(FEATURES_SFRAME_PATH):\n",
        "  features = imgs_model._extract_features(imgs, verbose=True, batch_size=64)\n",
        "  features.save(FEATURES_SFRAME_PATH)\n",
        "else:\n",
        "  features = tc.SFrame(data = FEATURES_SFRAME_PATH)\n",
        "\n",
        "embeddings = features['__image_features__'].to_numpy()"
      ],
      "execution_count": 0,
      "outputs": []
    }
  ]
}