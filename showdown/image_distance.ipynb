{
  "nbformat": 4,
  "nbformat_minor": 0,
  "metadata": {
    "colab": {
      "name": "image_distance.ipynb",
      "provenance": [],
      "mount_file_id": "1a0c8sFEfkOs5lT2VHIJLK6sn0kRfEZHc",
      "authorship_tag": "ABX9TyMfgiaAu4sEugBHasV9NWQr"
    },
    "kernelspec": {
      "name": "python3",
      "display_name": "Python 3"
    }
  },
  "cells": [
    {
      "cell_type": "code",
      "metadata": {
        "id": "CapZJc-xPABk",
        "colab_type": "code",
        "colab": {}
      },
      "source": [
        "import numpy as np\n",
        "import os\n",
        "from PIL import Image\n",
        "import matplotlib.pyplot as plt\n",
        "import matplotlib.image as mpimg"
      ],
      "execution_count": 0,
      "outputs": []
    },
    {
      "cell_type": "code",
      "metadata": {
        "id": "6caa2JJXPgs_",
        "colab_type": "code",
        "colab": {}
      },
      "source": [
        "def angular_distance(im1, im2):\n",
        "  v1 = np.array(im1.histogram())\n",
        "  v2 = np.array(im2.histogram())\n",
        "  v1_normalized = v1 / np.linalg.norm(v1)\n",
        "  v2_normalized = v2 / np.linalg.norm(v2)\n",
        "\n",
        "  return np.arccos(np.clip(np.dot(v1_normalized, v2_normalized), -1, 1))\n",
        "\n",
        "def averaged_distance(im1, im2):\n",
        "  v1 = np.array(im1.getdata())\n",
        "  v2 = np.array(im2.getdata())\n",
        "  \n",
        "  v1_norms = np.linalg.norm(v1, axis = 1)\n",
        "  v2_norms = np.linalg.norm(v2, axis = 1)\n",
        "\n",
        "  dot_prods = np.einsum('ij, ij -> i', v1, v2)\n",
        "  normalized_dot_prods = dot_prods / (v1_norms * v2_norms)\n",
        "\n",
        "  return np.arccos(np.clip(np.nanmean(normalized_dot_prods), -1, 1))"
      ],
      "execution_count": 0,
      "outputs": []
    },
    {
      "cell_type": "markdown",
      "metadata": {
        "id": "N09BKqk31jO9",
        "colab_type": "text"
      },
      "source": [
        "We make the assumption that the images are in an order such that clusters only grow left and right within that order (a sort of spatial locality). This isn't too insane of an assumption as similar-looking images were most likely taken one after another and so their file names will also be in sequence.\n",
        "\n",
        "The assumption is necessary so I don't have to wait for this to run for hours. :)"
      ]
    },
    {
      "cell_type": "code",
      "metadata": {
        "id": "XrSbrRIXs4st",
        "colab_type": "code",
        "colab": {}
      },
      "source": [
        "def simplified_clusters(img_paths, thresh, distftn):\n",
        "  clusters = []\n",
        "  path = img_paths.pop(0)\n",
        "  base_image = Image.open(path).resize((224, 224), resample = Image.LANCZOS).convert('RGB')\n",
        "  clusters.append([path])\n",
        "  while len(img_paths) != 0:\n",
        "    print(2009 - len(img_paths))\n",
        "    path = img_paths.pop(0)\n",
        "    curr_image = Image.open(path).resize((224, 224), resample = Image.LANCZOS).convert('RGB')\n",
        "    if distftn(base_image, curr_image) <= thresh:\n",
        "      clusters[-1].append(path)\n",
        "    else:\n",
        "      clusters.append([path])\n",
        "\n",
        "  return clusters    "
      ],
      "execution_count": 0,
      "outputs": []
    },
    {
      "cell_type": "code",
      "metadata": {
        "id": "OjXyA9XNL9va",
        "colab_type": "code",
        "colab": {}
      },
      "source": [
        "ICELAND_IMAGES_ROOT = './drive/My Drive/Iceland'\n",
        "image_file_paths = [\n",
        "  os.path.join(ICELAND_IMAGES_ROOT, item) \n",
        "  for item in os.listdir(ICELAND_IMAGES_ROOT) \n",
        "  if item != 'heic'\n",
        "]\n",
        "\n",
        "cltrs_angular = simplified_clusters(image_file_paths, 1, angular_distance)\n",
        "cltrs_averaged = simplified_clusters(image_file_paths, 0.1, averaged_distance)"
      ],
      "execution_count": 0,
      "outputs": []
    },
    {
      "cell_type": "code",
      "metadata": {
        "id": "DnDvBDh5uQOk",
        "colab_type": "code",
        "colab": {}
      },
      "source": [
        "import random\n",
        "import string\n",
        "\n",
        "def show_cluster(cluster):\n",
        "  n_rows = 2\n",
        "  for i in reversed(range(2, int(np.sqrt(len(cluster))) + 1)):\n",
        "    if len(cluster) % i == 0:\n",
        "      n_rows = i\n",
        "      break\n",
        "\n",
        "  n_cols = len(cluster) // n_rows\n",
        "\n",
        "  fig, axs = plt.subplots(n_rows, n_cols)\n",
        "  for i in range(n_rows):\n",
        "    for j in range(n_cols):\n",
        "      img = mpimg.imread(cluster[n_rows * i + j])\n",
        "      axs[i, j].imshow(img)\n",
        "\n",
        "  fig.show()\n",
        "  fig.savefig('./drive/My Drive/Colab Notebooks/' + ''.join([random.choice(string.ascii_letters + string.digits) for n in range(32)]) + '.png')"
      ],
      "execution_count": 0,
      "outputs": []
    },
    {
      "cell_type": "code",
      "metadata": {
        "id": "sTThJjYaxg49",
        "colab_type": "code",
        "colab": {}
      },
      "source": [
        "rand = random.randint(0, len(cltrs_angular) - 1)\n",
        "while len(cltrs_angular[rand]) <= 4:\n",
        "  rand = random.randrange(0, len(cltrs_angular))\n",
        "\n",
        "show_cluster(cltrs_angular[rand])"
      ],
      "execution_count": 0,
      "outputs": []
    },
    {
      "cell_type": "code",
      "metadata": {
        "id": "jEW-mdSKuds7",
        "colab_type": "code",
        "colab": {}
      },
      "source": [
        "rand = random.randint(0, len(cltrs_averaged) - 1)\n",
        "while len(cltrs_averaged[rand]) <= 4:\n",
        "  rand = random.randrange(0, len(cltrs_averaged))\n",
        "\n",
        "show_cluster(cltrs_averaged[rand])"
      ],
      "execution_count": 0,
      "outputs": []
    },
    {
      "cell_type": "markdown",
      "metadata": {
        "id": "X1KW6Aq11K-5",
        "colab_type": "text"
      },
      "source": [
        "Below is a multithreaded version of our clustering function without the spatial assumption made in \"simplified_clustering\" above.\n"
      ]
    },
    {
      "cell_type": "code",
      "metadata": {
        "id": "zno7MQCo1MWE",
        "colab_type": "code",
        "colab": {}
      },
      "source": [
        "from multiprocessing import Pool\n",
        "from functools import partial\n",
        "\n",
        "def return_dist(base_image, distftn, path):\n",
        "  print('{}'.format(path))\n",
        "  if path['cluster'] != -1:\n",
        "    return None\n",
        "\n",
        "  image = Image.open(path['path']).resize((224, 224), resample = Image.LANCZOS)\n",
        "  return distftn(base_image, image)\n",
        "\n",
        "def clusters(img_paths, thresh, distftn):\n",
        "  augmented_img_paths = [{'cluster': -1 , 'path': path } for path in img_paths]\n",
        "\n",
        "  num_clusters = -1\n",
        "  for index, path in enumerate(augmented_img_paths):\n",
        "    print('{}/{}'.format(index + 1, len(augmented_img_paths)))\n",
        "    if path['cluster'] != -1:\n",
        "      continue\n",
        "\n",
        "    num_clusters += 1\n",
        "    path['cluster'] = num_clusters\n",
        "    base_image = Image.open(path['path']).resize((224, 224), resample = Image.LANCZOS)\n",
        "\n",
        "    with Pool(150) as p:\n",
        "      dists = p.map(partial(return_dist, base_image, distftn), augmented_img_paths[index + 1:])\n",
        "      \n",
        "      for i, dist in enumerate(dists):\n",
        "        if dist is None:\n",
        "          continue\n",
        "        \n",
        "        if dist <= thresh:\n",
        "          augmented_img_paths[index + i + 1]['cluster'] = num_clusters\n",
        "  \n",
        "  clusters = [[] for i in range(num_clusters)]\n",
        "  for path in augmented_img_paths:\n",
        "    clusters[path['cluster']].append(path['path'])\n",
        "  \n",
        "  return clusters"
      ],
      "execution_count": 0,
      "outputs": []
    }
  ]
}