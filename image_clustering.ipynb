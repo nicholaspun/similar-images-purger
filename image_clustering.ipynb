{
  "nbformat": 4,
  "nbformat_minor": 0,
  "metadata": {
    "colab": {
      "name": "image_clustering.ipynb",
      "provenance": [],
      "collapsed_sections": [],
      "mount_file_id": "1FoaD_oyQyZ-k03dJOTVrOm-Ln_IEKkTm",
      "authorship_tag": "ABX9TyNYTJg0vGz5EAP3bkQunkik"
    },
    "kernelspec": {
      "name": "python3",
      "display_name": "Python 3"
    }
  },
  "cells": [
    {
      "cell_type": "code",
      "metadata": {
        "id": "sbNhIt-mOEZx",
        "colab_type": "code",
        "colab": {}
      },
      "source": [
        "%%capture\n",
        "!pip install turicreate\n",
        "!pip install kneed\n",
        "\n",
        "import kneed\n",
        "import os\n",
        "import matplotlib.pyplot as plt\n",
        "import numpy as np\n",
        "import tensorflow as tf\n",
        "import tensorflow_hub as hub\n",
        "import turicreate as tc"
      ],
      "execution_count": 0,
      "outputs": []
    },
    {
      "cell_type": "code",
      "metadata": {
        "id": "7b5mmtS0PWLa",
        "colab_type": "code",
        "colab": {}
      },
      "source": [
        "IMG_WIDTH = IMG_HEIGHT = 224\n",
        "\n",
        "def decode_img(file_path):\n",
        "  img = tf.io.read_file(file_path)\n",
        "  img = tf.image.decode_jpeg(img, channels=3)\n",
        "  # img = tf.image.convert_image_dtype(img, tf.float32)\n",
        "  img = tf.image.resize(img, [IMG_WIDTH, IMG_HEIGHT])\n",
        "  img = tf.expand_dims(img, 0)\n",
        "  return img"
      ],
      "execution_count": 0,
      "outputs": []
    },
    {
      "cell_type": "code",
      "metadata": {
        "id": "-7YLn5Oi94Nj",
        "colab_type": "code",
        "colab": {}
      },
      "source": [
        "# Definition of module with using tfhub.dev handle\n",
        "MODEL_URL = \"https://tfhub.dev/google/imagenet/mobilenet_v2_140_224/feature_vector/4\" \n",
        "\n",
        "# Load the module\n",
        "model = hub.load(MODEL_URL)"
      ],
      "execution_count": 0,
      "outputs": []
    },
    {
      "cell_type": "code",
      "metadata": {
        "id": "tuQ2aFVEapdX",
        "colab_type": "code",
        "colab": {}
      },
      "source": [
        "ICELAND_IMAGES_ROOT = './drive/My Drive/Iceland'\n",
        "\n",
        "# There's a subdirectory named 'heic'\n",
        "image_file_paths = [\n",
        "  os.path.join(ICELAND_IMAGES_ROOT, item) \n",
        "  for item in os.listdir(ICELAND_IMAGES_ROOT) \n",
        "  if item != 'heic'\n",
        "]\n",
        "\n",
        "image_feature_vectors = []\n",
        "for index, path in enumerate(image_file_paths):\n",
        "  print(\"{}/{}\".format(index + 1, len(image_file_paths)))\n",
        "  image_feature_vectors.append(np.squeeze(model(decode_img(path))).tolist())"
      ],
      "execution_count": 0,
      "outputs": []
    },
    {
      "cell_type": "code",
      "metadata": {
        "id": "Hz4U3X-BlTTo",
        "colab_type": "code",
        "colab": {}
      },
      "source": [
        "image_file_paths = np.array(image_file_paths)\n",
        "image_feature_vectors = np.array(image_feature_vectors)"
      ],
      "execution_count": 0,
      "outputs": []
    },
    {
      "cell_type": "code",
      "metadata": {
        "id": "5JfIsT0Lrlb6",
        "colab_type": "code",
        "colab": {}
      },
      "source": [
        "from sklearn.cluster import KMeans\n",
        "\n",
        "kmeans_model = KMeans(n_clusters = 600).fit(image_feature_vectors)"
      ],
      "execution_count": 0,
      "outputs": []
    },
    {
      "cell_type": "code",
      "metadata": {
        "id": "iK18pJUSaK0c",
        "colab_type": "code",
        "colab": {}
      },
      "source": [
        "from sklearn.metrics import pairwise_distances_argmin_min\n",
        "import matplotlib.image as mpimg\n",
        "\n",
        "medoid_indices, _ = pairwise_distances_argmin_min(kmeans_model.cluster_centers_, image_feature_vectors)\n",
        "medoid_images = image_file_paths[medoid_indices]"
      ],
      "execution_count": 0,
      "outputs": []
    },
    {
      "cell_type": "code",
      "metadata": {
        "id": "amPvwHGEA706",
        "colab_type": "code",
        "colab": {}
      },
      "source": [
        "def calculate_WSS(points, kmin, kmax, step = 1):\n",
        "  sse = []\n",
        "  for k in range(kmin, kmax+1, step):\n",
        "    print('{}/{}'.format(k, kmax))\n",
        "    kmeans = KMeans(n_clusters = k).fit(points)\n",
        "    centroids = kmeans.cluster_centers_\n",
        "    pred_clusters = kmeans.predict(points)\n",
        "    curr_sse = 0\n",
        "    \n",
        "    # calculate square of Euclidean distance of each point from its cluster center and add to current WSS\n",
        "    for i in range(len(points)):\n",
        "      curr_center = centroids[pred_clusters[i]]\n",
        "      curr_sse += (points[i, 0] - curr_center[0]) ** 2 + (points[i, 1] - curr_center[1]) ** 2\n",
        "      \n",
        "    sse.append(curr_sse)\n",
        "  return sse"
      ],
      "execution_count": 0,
      "outputs": []
    }
  ]
}